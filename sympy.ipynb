{
 "cells": [
  {
   "cell_type": "code",
   "execution_count": 1,
   "metadata": {},
   "outputs": [
    {
     "name": "stdout",
     "output_type": "stream",
     "text": [
      "The derivative of sin(x)*e^x is : exp(x)*sin(x) + exp(x)*cos(x)\n",
      "The indefinite integration of e^x*sin(x)+e^x*cos(x) is : exp(x)*sin(x)\n",
      "The definite integration of sin(x^2) from -oo to oo is : sqrt(2)*sqrt(pi)/2\n",
      "The limit of sin(x)/x as x tends to 0 is : 1\n",
      "The roots of the equation x^2-2 = 0 are : [-sqrt(2), sqrt(2)]\n"
     ]
    }
   ],
   "source": [
    "from sympy import (\n",
    "    diff, integrate, sin, cos, \n",
    "    exp, limit, solve, oo\n",
    ")\n",
    "from sympy.abc import x\n",
    "if __name__ == \"__main__\":\n",
    "    print(\"The derivative of sin(x)*e^x is :\", diff(sin(x)*exp(x), x))\n",
    "    print(\n",
    "        \"The indefinite integration of e^x*sin(x)+e^x*cos(x) is :\",\n",
    "        integrate(exp(x)*sin(x) + exp(x)*cos(x), x)\n",
    "    )\n",
    "    print(\n",
    "        \"The definite integration of sin(x^2) from -oo to oo is :\",\n",
    "        integrate(sin(x**2), (x, -oo, oo))\n",
    "    )\n",
    "    print(\n",
    "        \"The limit of sin(x)/x as x tends to 0 is :\",\n",
    "        limit(sin(x)/x, x, 0)\n",
    "    )\n",
    "    print(\n",
    "        \"The roots of the equation x^2-2 = 0 are :\",\n",
    "        solve(x**2 - 2, x)\n",
    "    )"
   ]
  },
  {
   "cell_type": "code",
   "execution_count": null,
   "metadata": {},
   "outputs": [],
   "source": []
  }
 ],
 "metadata": {
  "kernelspec": {
   "display_name": "Python 3.9.13 ('base')",
   "language": "python",
   "name": "python3"
  },
  "language_info": {
   "codemirror_mode": {
    "name": "ipython",
    "version": 3
   },
   "file_extension": ".py",
   "mimetype": "text/x-python",
   "name": "python",
   "nbconvert_exporter": "python",
   "pygments_lexer": "ipython3",
   "version": "3.9.13"
  },
  "orig_nbformat": 4,
  "vscode": {
   "interpreter": {
    "hash": "5b30f736e45932896a1a27b0973802247d41f5c6dfddee68ac14f4b5531b8d9e"
   }
  }
 },
 "nbformat": 4,
 "nbformat_minor": 2
}
